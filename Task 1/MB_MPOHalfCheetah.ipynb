{
 "cells": [
  {
   "cell_type": "code",
   "execution_count": 4,
   "id": "60227079",
   "metadata": {},
   "outputs": [
    {
     "name": "stderr",
     "output_type": "stream",
     "text": [
      "ERROR: Could not find a version that satisfies the requirement build-essential (from versions: none)\n",
      "ERROR: No matching distribution found for build-essential\n",
      "WARNING: You are using pip version 21.3.1; however, version 23.1 is available.\n",
      "You should consider upgrading via the 'C:\\Users\\Acer\\anaconda3\\python.exe -m pip install --upgrade pip' command.\n"
     ]
    },
    {
     "name": "stdout",
     "output_type": "stream",
     "text": [
      "Requirement already satisfied: greenlet in c:\\users\\acer\\anaconda3\\lib\\site-packages (2.0.2)\n"
     ]
    },
    {
     "name": "stderr",
     "output_type": "stream",
     "text": [
      "WARNING: You are using pip version 21.3.1; however, version 23.1 is available.\n",
      "You should consider upgrading via the 'C:\\Users\\Acer\\anaconda3\\python.exe -m pip install --upgrade pip' command.\n"
     ]
    },
    {
     "name": "stdout",
     "output_type": "stream",
     "text": [
      "Requirement already satisfied: gevent in c:\\users\\acer\\anaconda3\\lib\\site-packages (22.10.2)\n",
      "Requirement already satisfied: zope.interface in c:\\users\\acer\\anaconda3\\lib\\site-packages (from gevent) (5.4.0)\n",
      "Requirement already satisfied: zope.event in c:\\users\\acer\\anaconda3\\lib\\site-packages (from gevent) (4.6)\n",
      "Requirement already satisfied: greenlet>=2.0.0 in c:\\users\\acer\\anaconda3\\lib\\site-packages (from gevent) (2.0.2)\n",
      "Requirement already satisfied: cffi>=1.12.2 in c:\\users\\acer\\anaconda3\\lib\\site-packages (from gevent) (1.15.1)\n",
      "Requirement already satisfied: setuptools in c:\\users\\acer\\anaconda3\\lib\\site-packages (from gevent) (67.6.1)\n",
      "Requirement already satisfied: pycparser in c:\\users\\acer\\anaconda3\\lib\\site-packages (from cffi>=1.12.2->gevent) (2.21)\n"
     ]
    },
    {
     "name": "stderr",
     "output_type": "stream",
     "text": [
      "WARNING: You are using pip version 21.3.1; however, version 23.1 is available.\n",
      "You should consider upgrading via the 'C:\\Users\\Acer\\anaconda3\\python.exe -m pip install --upgrade pip' command.\n"
     ]
    }
   ],
   "source": [
    "!pip install build-essential autoconf libtool pkg-config python-opengl python-pil python-pyrex python-pyside.qtopengl idle-python2.7 qt4-dev-tools qt4-designer libqtgui4 libqtcore4 libqt4-xml libqt4-test libqt4-script libqt4-network libqt4-dbus python-qt4 python-qt4-gl libgle3 python-dev libssl-dev\n",
    "\n",
    "!pip install greenlet\n",
    "\n",
    "! pip install gevent"
   ]
  },
  {
   "cell_type": "code",
   "execution_count": 5,
   "id": "842eb30a",
   "metadata": {},
   "outputs": [
    {
     "name": "stderr",
     "output_type": "stream",
     "text": [
      "ERROR: unknown command \"create\"\n",
      "\n",
      "ERROR: unknown command \"activate\"\n",
      "\n"
     ]
    },
    {
     "name": "stdout",
     "output_type": "stream",
     "text": [
      "Requirement already satisfied: ray[rllib] in c:\\users\\acer\\anaconda3\\lib\\site-packages (2.3.1)\n",
      "Requirement already satisfied: tensorflow in c:\\users\\acer\\anaconda3\\lib\\site-packages (2.12.0)\n",
      "Requirement already satisfied: gym[mujoco] in c:\\users\\acer\\anaconda3\\lib\\site-packages (0.26.2)\n",
      "Requirement already satisfied: mujoco_py in c:\\users\\acer\\anaconda3\\lib\\site-packages (2.1.2.14)\n",
      "Requirement already satisfied: msgpack<2.0.0,>=1.0.0 in c:\\users\\acer\\anaconda3\\lib\\site-packages (from ray[rllib]) (1.0.3)\n",
      "Requirement already satisfied: frozenlist in c:\\users\\acer\\anaconda3\\lib\\site-packages (from ray[rllib]) (1.3.3)\n",
      "Requirement already satisfied: pyyaml in c:\\users\\acer\\anaconda3\\lib\\site-packages (from ray[rllib]) (6.0)\n",
      "Requirement already satisfied: jsonschema in c:\\users\\acer\\anaconda3\\lib\\site-packages (from ray[rllib]) (4.16.0)\n",
      "Requirement already satisfied: requests in c:\\users\\acer\\anaconda3\\lib\\site-packages (from ray[rllib]) (2.28.1)\n",
      "Requirement already satisfied: attrs in c:\\users\\acer\\anaconda3\\lib\\site-packages (from ray[rllib]) (21.4.0)\n",
      "Requirement already satisfied: click>=7.0 in c:\\users\\acer\\anaconda3\\lib\\site-packages (from ray[rllib]) (8.0.4)\n",
      "Requirement already satisfied: protobuf!=3.19.5,>=3.15.3 in c:\\users\\acer\\anaconda3\\lib\\site-packages (from ray[rllib]) (3.20.3)\n",
      "Requirement already satisfied: numpy>=1.19.3 in c:\\users\\acer\\anaconda3\\lib\\site-packages (from ray[rllib]) (1.23.5)\n",
      "Requirement already satisfied: filelock in c:\\users\\acer\\anaconda3\\lib\\site-packages (from ray[rllib]) (3.6.0)\n",
      "Requirement already satisfied: aiosignal in c:\\users\\acer\\anaconda3\\lib\\site-packages (from ray[rllib]) (1.3.1)\n",
      "Requirement already satisfied: grpcio>=1.32.0 in c:\\users\\acer\\anaconda3\\lib\\site-packages (from ray[rllib]) (1.53.0)\n",
      "Requirement already satisfied: virtualenv>=20.0.24 in c:\\users\\acer\\anaconda3\\lib\\site-packages (from ray[rllib]) (20.21.0)\n",
      "Requirement already satisfied: lz4 in c:\\users\\acer\\anaconda3\\lib\\site-packages (from ray[rllib]) (3.1.3)\n",
      "Requirement already satisfied: scipy in c:\\users\\acer\\anaconda3\\lib\\site-packages (from ray[rllib]) (1.9.1)\n",
      "Requirement already satisfied: pandas in c:\\users\\acer\\anaconda3\\lib\\site-packages (from ray[rllib]) (1.4.4)\n",
      "Requirement already satisfied: tensorboardX>=1.9 in c:\\users\\acer\\anaconda3\\lib\\site-packages (from ray[rllib]) (2.6)\n",
      "Requirement already satisfied: rich in c:\\users\\acer\\anaconda3\\lib\\site-packages (from ray[rllib]) (13.3.4)\n",
      "Requirement already satisfied: scikit-image in c:\\users\\acer\\anaconda3\\lib\\site-packages (from ray[rllib]) (0.19.2)\n",
      "Requirement already satisfied: dm-tree in c:\\users\\acer\\anaconda3\\lib\\site-packages (from ray[rllib]) (0.1.8)\n",
      "Requirement already satisfied: gymnasium==0.26.3 in c:\\users\\acer\\anaconda3\\lib\\site-packages (from ray[rllib]) (0.26.3)\n",
      "Requirement already satisfied: typer in c:\\users\\acer\\anaconda3\\lib\\site-packages (from ray[rllib]) (0.7.0)\n",
      "Requirement already satisfied: tabulate in c:\\users\\acer\\anaconda3\\lib\\site-packages (from ray[rllib]) (0.8.10)\n",
      "Requirement already satisfied: cloudpickle>=1.2.0 in c:\\users\\acer\\anaconda3\\lib\\site-packages (from gymnasium==0.26.3->ray[rllib]) (2.0.0)\n",
      "Requirement already satisfied: gymnasium-notices>=0.0.1 in c:\\users\\acer\\anaconda3\\lib\\site-packages (from gymnasium==0.26.3->ray[rllib]) (0.0.1)\n",
      "Requirement already satisfied: importlib-metadata>=4.8.0 in c:\\users\\acer\\anaconda3\\lib\\site-packages (from gymnasium==0.26.3->ray[rllib]) (4.11.3)\n",
      "Requirement already satisfied: tensorflow-intel==2.12.0 in c:\\users\\acer\\anaconda3\\lib\\site-packages (from tensorflow) (2.12.0)\n",
      "Requirement already satisfied: libclang>=13.0.0 in c:\\users\\acer\\anaconda3\\lib\\site-packages (from tensorflow-intel==2.12.0->tensorflow) (16.0.0)\n",
      "Requirement already satisfied: opt-einsum>=2.3.2 in c:\\users\\acer\\anaconda3\\lib\\site-packages (from tensorflow-intel==2.12.0->tensorflow) (3.3.0)\n",
      "Requirement already satisfied: tensorflow-io-gcs-filesystem>=0.23.1 in c:\\users\\acer\\anaconda3\\lib\\site-packages (from tensorflow-intel==2.12.0->tensorflow) (0.31.0)\n",
      "Requirement already satisfied: wrapt<1.15,>=1.11.0 in c:\\users\\acer\\anaconda3\\lib\\site-packages (from tensorflow-intel==2.12.0->tensorflow) (1.14.1)\n",
      "Requirement already satisfied: astunparse>=1.6.0 in c:\\users\\acer\\anaconda3\\lib\\site-packages (from tensorflow-intel==2.12.0->tensorflow) (1.6.3)\n",
      "Requirement already satisfied: tensorboard<2.13,>=2.12 in c:\\users\\acer\\anaconda3\\lib\\site-packages (from tensorflow-intel==2.12.0->tensorflow) (2.12.1)\n",
      "Requirement already satisfied: six>=1.12.0 in c:\\users\\acer\\anaconda3\\lib\\site-packages (from tensorflow-intel==2.12.0->tensorflow) (1.16.0)\n",
      "Requirement already satisfied: h5py>=2.9.0 in c:\\users\\acer\\anaconda3\\lib\\site-packages (from tensorflow-intel==2.12.0->tensorflow) (3.7.0)\n",
      "Requirement already satisfied: packaging in c:\\users\\acer\\anaconda3\\lib\\site-packages (from tensorflow-intel==2.12.0->tensorflow) (21.3)\n",
      "Requirement already satisfied: tensorflow-estimator<2.13,>=2.12.0 in c:\\users\\acer\\anaconda3\\lib\\site-packages (from tensorflow-intel==2.12.0->tensorflow) (2.12.0)\n",
      "Requirement already satisfied: gast<=0.4.0,>=0.2.1 in c:\\users\\acer\\anaconda3\\lib\\site-packages (from tensorflow-intel==2.12.0->tensorflow) (0.4.0)\n",
      "Requirement already satisfied: jax>=0.3.15 in c:\\users\\acer\\anaconda3\\lib\\site-packages (from tensorflow-intel==2.12.0->tensorflow) (0.4.8)\n",
      "Requirement already satisfied: keras<2.13,>=2.12.0 in c:\\users\\acer\\anaconda3\\lib\\site-packages (from tensorflow-intel==2.12.0->tensorflow) (2.12.0)\n",
      "Requirement already satisfied: google-pasta>=0.1.1 in c:\\users\\acer\\anaconda3\\lib\\site-packages (from tensorflow-intel==2.12.0->tensorflow) (0.2.0)\n",
      "Requirement already satisfied: absl-py>=1.0.0 in c:\\users\\acer\\anaconda3\\lib\\site-packages (from tensorflow-intel==2.12.0->tensorflow) (1.4.0)\n",
      "Requirement already satisfied: termcolor>=1.1.0 in c:\\users\\acer\\anaconda3\\lib\\site-packages (from tensorflow-intel==2.12.0->tensorflow) (2.2.0)\n",
      "Requirement already satisfied: setuptools in c:\\users\\acer\\anaconda3\\lib\\site-packages (from tensorflow-intel==2.12.0->tensorflow) (67.6.1)\n",
      "Requirement already satisfied: flatbuffers>=2.0 in c:\\users\\acer\\anaconda3\\lib\\site-packages (from tensorflow-intel==2.12.0->tensorflow) (23.3.3)\n",
      "Requirement already satisfied: typing-extensions>=3.6.6 in c:\\users\\acer\\anaconda3\\lib\\site-packages (from tensorflow-intel==2.12.0->tensorflow) (4.3.0)\n",
      "Requirement already satisfied: gym-notices>=0.0.4 in c:\\users\\acer\\anaconda3\\lib\\site-packages (from gym[mujoco]) (0.0.8)\n",
      "Collecting mujoco==2.2\n",
      "  Downloading mujoco-2.2.0-cp39-cp39-win_amd64.whl (2.8 MB)\n",
      "Requirement already satisfied: imageio>=2.14.1 in c:\\users\\acer\\anaconda3\\lib\\site-packages (from gym[mujoco]) (2.19.3)\n",
      "Collecting pyopengl\n",
      "  Using cached PyOpenGL-3.1.6-py3-none-any.whl (2.4 MB)\n",
      "Requirement already satisfied: glfw in c:\\users\\acer\\anaconda3\\lib\\site-packages (from mujoco==2.2->gym[mujoco]) (2.5.7)\n",
      "Requirement already satisfied: autorom[accept-rom-license]~=0.4.2 in c:\\users\\acer\\anaconda3\\lib\\site-packages (from gym[mujoco]) (0.4.2)\n",
      "Requirement already satisfied: fasteners~=0.15 in c:\\users\\acer\\anaconda3\\lib\\site-packages (from mujoco_py) (0.18)\n",
      "Requirement already satisfied: cffi>=1.10 in c:\\users\\acer\\anaconda3\\lib\\site-packages (from mujoco_py) (1.15.1)\n",
      "Requirement already satisfied: Cython>=0.27.2 in c:\\users\\acer\\anaconda3\\lib\\site-packages (from mujoco_py) (0.29.32)\n",
      "Requirement already satisfied: tqdm in c:\\users\\acer\\anaconda3\\lib\\site-packages (from autorom[accept-rom-license]~=0.4.2->gym[mujoco]) (4.64.1)\n",
      "Requirement already satisfied: AutoROM.accept-rom-license in c:\\users\\acer\\anaconda3\\lib\\site-packages (from autorom[accept-rom-license]~=0.4.2->gym[mujoco]) (0.6.1)\n",
      "Requirement already satisfied: pycparser in c:\\users\\acer\\anaconda3\\lib\\site-packages (from cffi>=1.10->mujoco_py) (2.21)\n",
      "Requirement already satisfied: colorama in c:\\users\\acer\\anaconda3\\lib\\site-packages (from click>=7.0->ray[rllib]) (0.4.5)\n",
      "Requirement already satisfied: pillow>=8.3.2 in c:\\users\\acer\\anaconda3\\lib\\site-packages (from imageio>=2.14.1->gym[mujoco]) (9.2.0)\n",
      "Requirement already satisfied: zipp>=0.5 in c:\\users\\acer\\anaconda3\\lib\\site-packages (from importlib-metadata>=4.8.0->gymnasium==0.26.3->ray[rllib]) (3.8.0)\n",
      "Requirement already satisfied: distlib<1,>=0.3.6 in c:\\users\\acer\\anaconda3\\lib\\site-packages (from virtualenv>=20.0.24->ray[rllib]) (0.3.6)\n",
      "Requirement already satisfied: platformdirs<4,>=2.4 in c:\\users\\acer\\anaconda3\\lib\\site-packages (from virtualenv>=20.0.24->ray[rllib]) (2.5.2)\n",
      "Requirement already satisfied: pyrsistent!=0.17.0,!=0.17.1,!=0.17.2,>=0.14.0 in c:\\users\\acer\\anaconda3\\lib\\site-packages (from jsonschema->ray[rllib]) (0.18.0)\n",
      "Requirement already satisfied: pytz>=2020.1 in c:\\users\\acer\\anaconda3\\lib\\site-packages (from pandas->ray[rllib]) (2022.1)\n",
      "Requirement already satisfied: python-dateutil>=2.8.1 in c:\\users\\acer\\anaconda3\\lib\\site-packages (from pandas->ray[rllib]) (2.8.2)\n",
      "Requirement already satisfied: charset-normalizer<3,>=2 in c:\\users\\acer\\anaconda3\\lib\\site-packages (from requests->ray[rllib]) (2.0.4)\n",
      "Requirement already satisfied: urllib3<1.27,>=1.21.1 in c:\\users\\acer\\anaconda3\\lib\\site-packages (from requests->ray[rllib]) (1.26.11)\n",
      "Requirement already satisfied: certifi>=2017.4.17 in c:\\users\\acer\\anaconda3\\lib\\site-packages (from requests->ray[rllib]) (2022.9.14)\n",
      "Requirement already satisfied: idna<4,>=2.5 in c:\\users\\acer\\anaconda3\\lib\\site-packages (from requests->ray[rllib]) (3.3)\n",
      "Requirement already satisfied: pygments<3.0.0,>=2.13.0 in c:\\users\\acer\\anaconda3\\lib\\site-packages (from rich->ray[rllib]) (2.15.1)\n",
      "Requirement already satisfied: markdown-it-py<3.0.0,>=2.2.0 in c:\\users\\acer\\anaconda3\\lib\\site-packages (from rich->ray[rllib]) (2.2.0)\n",
      "Requirement already satisfied: PyWavelets>=1.1.1 in c:\\users\\acer\\anaconda3\\lib\\site-packages (from scikit-image->ray[rllib]) (1.3.0)\n",
      "Requirement already satisfied: networkx>=2.2 in c:\\users\\acer\\anaconda3\\lib\\site-packages (from scikit-image->ray[rllib]) (2.8.4)\n",
      "Requirement already satisfied: tifffile>=2019.7.26 in c:\\users\\acer\\anaconda3\\lib\\site-packages (from scikit-image->ray[rllib]) (2021.7.2)\n",
      "Requirement already satisfied: wheel<1.0,>=0.23.0 in c:\\users\\acer\\anaconda3\\lib\\site-packages (from astunparse>=1.6.0->tensorflow-intel==2.12.0->tensorflow) (0.37.1)\n",
      "Requirement already satisfied: ml-dtypes>=0.0.3 in c:\\users\\acer\\anaconda3\\lib\\site-packages (from jax>=0.3.15->tensorflow-intel==2.12.0->tensorflow) (0.0.4)\n",
      "Requirement already satisfied: mdurl~=0.1 in c:\\users\\acer\\anaconda3\\lib\\site-packages (from markdown-it-py<3.0.0,>=2.2.0->rich->ray[rllib]) (0.1.2)\n",
      "Requirement already satisfied: pyparsing!=3.0.5,>=2.0.2 in c:\\users\\acer\\anaconda3\\lib\\site-packages (from packaging->tensorflow-intel==2.12.0->tensorflow) (3.0.9)\n",
      "Requirement already satisfied: tensorboard-data-server<0.8.0,>=0.7.0 in c:\\users\\acer\\anaconda3\\lib\\site-packages (from tensorboard<2.13,>=2.12->tensorflow-intel==2.12.0->tensorflow) (0.7.0)\n",
      "Requirement already satisfied: tensorboard-plugin-wit>=1.6.0 in c:\\users\\acer\\anaconda3\\lib\\site-packages (from tensorboard<2.13,>=2.12->tensorflow-intel==2.12.0->tensorflow) (1.8.1)\n",
      "Requirement already satisfied: markdown>=2.6.8 in c:\\users\\acer\\anaconda3\\lib\\site-packages (from tensorboard<2.13,>=2.12->tensorflow-intel==2.12.0->tensorflow) (3.3.4)\n",
      "Requirement already satisfied: werkzeug>=1.0.1 in c:\\users\\acer\\anaconda3\\lib\\site-packages (from tensorboard<2.13,>=2.12->tensorflow-intel==2.12.0->tensorflow) (2.0.3)\n",
      "Requirement already satisfied: google-auth-oauthlib<1.1,>=0.5 in c:\\users\\acer\\anaconda3\\lib\\site-packages (from tensorboard<2.13,>=2.12->tensorflow-intel==2.12.0->tensorflow) (1.0.0)\n",
      "Requirement already satisfied: google-auth<3,>=1.6.3 in c:\\users\\acer\\anaconda3\\lib\\site-packages (from tensorboard<2.13,>=2.12->tensorflow-intel==2.12.0->tensorflow) (2.17.2)\n",
      "Requirement already satisfied: rsa<5,>=3.1.4 in c:\\users\\acer\\anaconda3\\lib\\site-packages (from google-auth<3,>=1.6.3->tensorboard<2.13,>=2.12->tensorflow-intel==2.12.0->tensorflow) (4.9)\n",
      "Requirement already satisfied: pyasn1-modules>=0.2.1 in c:\\users\\acer\\anaconda3\\lib\\site-packages (from google-auth<3,>=1.6.3->tensorboard<2.13,>=2.12->tensorflow-intel==2.12.0->tensorflow) (0.2.8)\n",
      "Requirement already satisfied: cachetools<6.0,>=2.0.0 in c:\\users\\acer\\anaconda3\\lib\\site-packages (from google-auth<3,>=1.6.3->tensorboard<2.13,>=2.12->tensorflow-intel==2.12.0->tensorflow) (5.3.0)\n",
      "Requirement already satisfied: requests-oauthlib>=0.7.0 in c:\\users\\acer\\anaconda3\\lib\\site-packages (from google-auth-oauthlib<1.1,>=0.5->tensorboard<2.13,>=2.12->tensorflow-intel==2.12.0->tensorflow) (1.3.1)\n",
      "Requirement already satisfied: pyasn1<0.5.0,>=0.4.6 in c:\\users\\acer\\anaconda3\\lib\\site-packages (from pyasn1-modules>=0.2.1->google-auth<3,>=1.6.3->tensorboard<2.13,>=2.12->tensorflow-intel==2.12.0->tensorflow) (0.4.8)\n",
      "Requirement already satisfied: oauthlib>=3.0.0 in c:\\users\\acer\\anaconda3\\lib\\site-packages (from requests-oauthlib>=0.7.0->google-auth-oauthlib<1.1,>=0.5->tensorboard<2.13,>=2.12->tensorflow-intel==2.12.0->tensorflow) (3.2.2)\n",
      "Installing collected packages: pyopengl, mujoco\n",
      "Successfully installed mujoco-2.2.0 pyopengl-3.1.6\n"
     ]
    },
    {
     "name": "stderr",
     "output_type": "stream",
     "text": [
      "WARNING: You are using pip version 21.3.1; however, version 23.1 is available.\n",
      "You should consider upgrading via the 'C:\\Users\\Acer\\anaconda3\\python.exe -m pip install --upgrade pip' command.\n"
     ]
    }
   ],
   "source": [
    "!pip create -n rllib python=3.8\n",
    "!pip activate rllib\n",
    "!pip install \"ray[rllib]\" tensorflow \"gym[mujoco]\" \"gym[accept-rom-license]\" mujoco_py"
   ]
  },
  {
   "cell_type": "code",
   "execution_count": 9,
   "id": "afe18431",
   "metadata": {},
   "outputs": [
    {
     "name": "stderr",
     "output_type": "stream",
     "text": [
      "ERROR: Could not find a version that satisfies the requirement libgl1-mesa-dev (from versions: none)\n",
      "ERROR: No matching distribution found for libgl1-mesa-dev\n",
      "WARNING: You are using pip version 21.3.1; however, version 23.1 is available.\n",
      "You should consider upgrading via the 'C:\\Users\\Acer\\anaconda3\\python.exe -m pip install --upgrade pip' command.\n"
     ]
    },
    {
     "name": "stdout",
     "output_type": "stream",
     "text": [
      "Collecting patchelf\n",
      "  Downloading patchelf-0.17.2.1.tar.gz (167 kB)\n",
      "  Installing build dependencies: started\n",
      "  Installing build dependencies: finished with status 'done'\n",
      "  Getting requirements to build wheel: started\n",
      "  Getting requirements to build wheel: finished with status 'done'\n",
      "  Preparing metadata (pyproject.toml): started\n",
      "  Preparing metadata (pyproject.toml): finished with status 'done'\n",
      "Building wheels for collected packages: patchelf\n",
      "  Building wheel for patchelf (pyproject.toml): started\n",
      "  Building wheel for patchelf (pyproject.toml): finished with status 'error'\n",
      "Failed to build patchelf\n"
     ]
    },
    {
     "name": "stderr",
     "output_type": "stream",
     "text": [
      "  ERROR: Command errored out with exit status 1:\n",
      "   command: 'C:\\Users\\Acer\\anaconda3\\python.exe' 'C:\\Users\\Acer\\anaconda3\\lib\\site-packages\\pip\\_vendor\\pep517\\in_process\\_in_process.py' build_wheel 'C:\\Users\\Acer\\AppData\\Local\\Temp\\tmpwuatei6k'\n",
      "       cwd: C:\\Users\\Acer\\AppData\\Local\\Temp\\pip-install-ccma7tnr\\patchelf_c032f7f662ae42daa04be2df73a34a4c\n",
      "  Complete output (9 lines):\n",
      "  Traceback (most recent call last):\n",
      "    File \"C:\\Users\\Acer\\AppData\\Local\\Temp\\pip-build-env-r0_8fkf8\\overlay\\Lib\\site-packages\\skbuild\\setuptools_wrap.py\", line 645, in setup\n",
      "      cmkr = cmaker.CMaker(cmake_executable)\n",
      "    File \"C:\\Users\\Acer\\AppData\\Local\\Temp\\pip-build-env-r0_8fkf8\\overlay\\Lib\\site-packages\\skbuild\\cmaker.py\", line 148, in __init__\n",
      "      self.cmake_version = get_cmake_version(self.cmake_executable)\n",
      "    File \"C:\\Users\\Acer\\AppData\\Local\\Temp\\pip-build-env-r0_8fkf8\\overlay\\Lib\\site-packages\\skbuild\\cmaker.py\", line 105, in get_cmake_version\n",
      "      raise SKBuildError(msg) from err\n",
      "  \n",
      "  Problem with the CMake installation, aborting build. CMake executable is cmake\n",
      "  ----------------------------------------\n",
      "  ERROR: Failed building wheel for patchelf\n",
      "ERROR: Could not build wheels for patchelf, which is required to install pyproject.toml-based projects\n",
      "WARNING: You are using pip version 21.3.1; however, version 23.1 is available.\n",
      "You should consider upgrading via the 'C:\\Users\\Acer\\anaconda3\\python.exe -m pip install --upgrade pip' command.\n"
     ]
    },
    {
     "name": "stdout",
     "output_type": "stream",
     "text": [
      "Collecting git+https://github.com/Denys88/rl_games\n",
      "  Cloning https://github.com/Denys88/rl_games to c:\\users\\acer\\appdata\\local\\temp\\pip-req-build-ablz7n83\n",
      "  Resolved https://github.com/Denys88/rl_games to commit 55aa8a049e97284b9b702b12e128ace9032badee\n",
      "  Installing build dependencies: started\n",
      "  Installing build dependencies: finished with status 'done'\n",
      "  Getting requirements to build wheel: started\n",
      "  Getting requirements to build wheel: finished with status 'done'\n",
      "  Preparing metadata (pyproject.toml): started\n",
      "  Preparing metadata (pyproject.toml): finished with status 'done'\n",
      "Requirement already satisfied: gym[classic-control]<0.24.0,>=0.23.0 in c:\\users\\acer\\anaconda3\\lib\\site-packages (from rl-games==1.6.1) (0.23.1)\n",
      "Requirement already satisfied: wandb<0.13.0,>=0.12.11 in c:\\users\\acer\\anaconda3\\lib\\site-packages (from rl-games==1.6.1) (0.12.21)\n",
      "Requirement already satisfied: ray<2.0.0,>=1.11.0 in c:\\users\\acer\\anaconda3\\lib\\site-packages (from rl-games==1.6.1) (1.13.0)\n",
      "Requirement already satisfied: tensorboard<3.0.0,>=2.8.0 in c:\\users\\acer\\anaconda3\\lib\\site-packages (from rl-games==1.6.1) (2.11.2)\n",
      "Requirement already satisfied: tensorboardX<3.0,>=2.5 in c:\\users\\acer\\anaconda3\\lib\\site-packages (from rl-games==1.6.1) (2.6)\n",
      "Requirement already satisfied: PyYAML<7.0,>=6.0 in c:\\users\\acer\\anaconda3\\lib\\site-packages (from rl-games==1.6.1) (6.0)\n",
      "Requirement already satisfied: setproctitle<2.0.0,>=1.2.2 in c:\\users\\acer\\anaconda3\\lib\\site-packages (from rl-games==1.6.1) (1.3.2)\n",
      "Requirement already satisfied: psutil<6.0.0,>=5.9.0 in c:\\users\\acer\\anaconda3\\lib\\site-packages (from rl-games==1.6.1) (5.9.0)\n",
      "Requirement already satisfied: opencv-python<5.0.0,>=4.5.5 in c:\\users\\acer\\anaconda3\\lib\\site-packages (from rl-games==1.6.1) (4.7.0.72)\n",
      "Requirement already satisfied: importlib-metadata>=4.10.0 in c:\\users\\acer\\anaconda3\\lib\\site-packages (from gym[classic-control]<0.24.0,>=0.23.0->rl-games==1.6.1) (4.11.3)\n",
      "Requirement already satisfied: cloudpickle>=1.2.0 in c:\\users\\acer\\anaconda3\\lib\\site-packages (from gym[classic-control]<0.24.0,>=0.23.0->rl-games==1.6.1) (2.0.0)\n",
      "Requirement already satisfied: gym-notices>=0.0.4 in c:\\users\\acer\\anaconda3\\lib\\site-packages (from gym[classic-control]<0.24.0,>=0.23.0->rl-games==1.6.1) (0.0.8)\n",
      "Requirement already satisfied: numpy>=1.18.0 in c:\\users\\acer\\anaconda3\\lib\\site-packages (from gym[classic-control]<0.24.0,>=0.23.0->rl-games==1.6.1) (1.23.5)\n",
      "Requirement already satisfied: msgpack<2.0.0,>=1.0.0 in c:\\users\\acer\\anaconda3\\lib\\site-packages (from ray<2.0.0,>=1.11.0->rl-games==1.6.1) (1.0.3)\n",
      "Requirement already satisfied: attrs in c:\\users\\acer\\anaconda3\\lib\\site-packages (from ray<2.0.0,>=1.11.0->rl-games==1.6.1) (21.4.0)\n",
      "Requirement already satisfied: jsonschema in c:\\users\\acer\\anaconda3\\lib\\site-packages (from ray<2.0.0,>=1.11.0->rl-games==1.6.1) (4.16.0)\n",
      "Requirement already satisfied: filelock in c:\\users\\acer\\anaconda3\\lib\\site-packages (from ray<2.0.0,>=1.11.0->rl-games==1.6.1) (3.6.0)\n",
      "Requirement already satisfied: aiosignal in c:\\users\\acer\\anaconda3\\lib\\site-packages (from ray<2.0.0,>=1.11.0->rl-games==1.6.1) (1.3.1)\n",
      "Requirement already satisfied: virtualenv in c:\\users\\acer\\anaconda3\\lib\\site-packages (from ray<2.0.0,>=1.11.0->rl-games==1.6.1) (20.21.0)\n",
      "Requirement already satisfied: grpcio<=1.43.0,>=1.28.1 in c:\\users\\acer\\anaconda3\\lib\\site-packages (from ray<2.0.0,>=1.11.0->rl-games==1.6.1) (1.43.0)\n",
      "Requirement already satisfied: click<=8.0.4,>=7.0 in c:\\users\\acer\\anaconda3\\lib\\site-packages (from ray<2.0.0,>=1.11.0->rl-games==1.6.1) (8.0.4)\n",
      "Requirement already satisfied: frozenlist in c:\\users\\acer\\anaconda3\\lib\\site-packages (from ray<2.0.0,>=1.11.0->rl-games==1.6.1) (1.3.3)\n",
      "Requirement already satisfied: requests in c:\\users\\acer\\anaconda3\\lib\\site-packages (from ray<2.0.0,>=1.11.0->rl-games==1.6.1) (2.28.1)\n",
      "Requirement already satisfied: protobuf<4.0.0,>=3.15.3 in c:\\users\\acer\\anaconda3\\lib\\site-packages (from ray<2.0.0,>=1.11.0->rl-games==1.6.1) (3.20.3)\n",
      "Requirement already satisfied: tensorboard-plugin-wit>=1.6.0 in c:\\users\\acer\\anaconda3\\lib\\site-packages (from tensorboard<3.0.0,>=2.8.0->rl-games==1.6.1) (1.8.1)\n",
      "Requirement already satisfied: google-auth-oauthlib<0.5,>=0.4.1 in c:\\users\\acer\\anaconda3\\lib\\site-packages (from tensorboard<3.0.0,>=2.8.0->rl-games==1.6.1) (0.4.6)\n",
      "Requirement already satisfied: tensorboard-data-server<0.7.0,>=0.6.0 in c:\\users\\acer\\anaconda3\\lib\\site-packages (from tensorboard<3.0.0,>=2.8.0->rl-games==1.6.1) (0.6.1)\n",
      "Requirement already satisfied: setuptools>=41.0.0 in c:\\users\\acer\\anaconda3\\lib\\site-packages (from tensorboard<3.0.0,>=2.8.0->rl-games==1.6.1) (67.6.1)\n",
      "Requirement already satisfied: wheel>=0.26 in c:\\users\\acer\\anaconda3\\lib\\site-packages (from tensorboard<3.0.0,>=2.8.0->rl-games==1.6.1) (0.37.1)\n",
      "Requirement already satisfied: google-auth<3,>=1.6.3 in c:\\users\\acer\\anaconda3\\lib\\site-packages (from tensorboard<3.0.0,>=2.8.0->rl-games==1.6.1) (2.17.2)\n",
      "Requirement already satisfied: absl-py>=0.4 in c:\\users\\acer\\anaconda3\\lib\\site-packages (from tensorboard<3.0.0,>=2.8.0->rl-games==1.6.1) (1.4.0)\n",
      "Requirement already satisfied: markdown>=2.6.8 in c:\\users\\acer\\anaconda3\\lib\\site-packages (from tensorboard<3.0.0,>=2.8.0->rl-games==1.6.1) (3.3.4)\n",
      "Requirement already satisfied: werkzeug>=1.0.1 in c:\\users\\acer\\anaconda3\\lib\\site-packages (from tensorboard<3.0.0,>=2.8.0->rl-games==1.6.1) (2.0.3)\n",
      "Requirement already satisfied: packaging in c:\\users\\acer\\anaconda3\\lib\\site-packages (from tensorboardX<3.0,>=2.5->rl-games==1.6.1) (21.3)\n",
      "Requirement already satisfied: GitPython>=1.0.0 in c:\\users\\acer\\anaconda3\\lib\\site-packages (from wandb<0.13.0,>=0.12.11->rl-games==1.6.1) (3.1.31)\n",
      "Requirement already satisfied: promise<3,>=2.0 in c:\\users\\acer\\anaconda3\\lib\\site-packages (from wandb<0.13.0,>=0.12.11->rl-games==1.6.1) (2.3)\n",
      "Requirement already satisfied: pathtools in c:\\users\\acer\\anaconda3\\lib\\site-packages (from wandb<0.13.0,>=0.12.11->rl-games==1.6.1) (0.1.2)\n",
      "Requirement already satisfied: docker-pycreds>=0.4.0 in c:\\users\\acer\\anaconda3\\lib\\site-packages (from wandb<0.13.0,>=0.12.11->rl-games==1.6.1) (0.4.0)\n",
      "Requirement already satisfied: shortuuid>=0.5.0 in c:\\users\\acer\\anaconda3\\lib\\site-packages (from wandb<0.13.0,>=0.12.11->rl-games==1.6.1) (1.0.11)\n",
      "Requirement already satisfied: six>=1.13.0 in c:\\users\\acer\\anaconda3\\lib\\site-packages (from wandb<0.13.0,>=0.12.11->rl-games==1.6.1) (1.16.0)\n",
      "Requirement already satisfied: sentry-sdk>=1.0.0 in c:\\users\\acer\\anaconda3\\lib\\site-packages (from wandb<0.13.0,>=0.12.11->rl-games==1.6.1) (1.20.0)\n",
      "Requirement already satisfied: colorama in c:\\users\\acer\\anaconda3\\lib\\site-packages (from click<=8.0.4,>=7.0->ray<2.0.0,>=1.11.0->rl-games==1.6.1) (0.4.5)\n",
      "Requirement already satisfied: gitdb<5,>=4.0.1 in c:\\users\\acer\\anaconda3\\lib\\site-packages (from GitPython>=1.0.0->wandb<0.13.0,>=0.12.11->rl-games==1.6.1) (4.0.10)\n",
      "Requirement already satisfied: rsa<5,>=3.1.4 in c:\\users\\acer\\anaconda3\\lib\\site-packages (from google-auth<3,>=1.6.3->tensorboard<3.0.0,>=2.8.0->rl-games==1.6.1) (4.9)\n",
      "Requirement already satisfied: cachetools<6.0,>=2.0.0 in c:\\users\\acer\\anaconda3\\lib\\site-packages (from google-auth<3,>=1.6.3->tensorboard<3.0.0,>=2.8.0->rl-games==1.6.1) (5.3.0)\n",
      "Requirement already satisfied: pyasn1-modules>=0.2.1 in c:\\users\\acer\\anaconda3\\lib\\site-packages (from google-auth<3,>=1.6.3->tensorboard<3.0.0,>=2.8.0->rl-games==1.6.1) (0.2.8)\n",
      "Requirement already satisfied: requests-oauthlib>=0.7.0 in c:\\users\\acer\\anaconda3\\lib\\site-packages (from google-auth-oauthlib<0.5,>=0.4.1->tensorboard<3.0.0,>=2.8.0->rl-games==1.6.1) (1.3.1)\n",
      "Requirement already satisfied: zipp>=0.5 in c:\\users\\acer\\anaconda3\\lib\\site-packages (from importlib-metadata>=4.10.0->gym[classic-control]<0.24.0,>=0.23.0->rl-games==1.6.1) (3.8.0)\n",
      "Requirement already satisfied: idna<4,>=2.5 in c:\\users\\acer\\anaconda3\\lib\\site-packages (from requests->ray<2.0.0,>=1.11.0->rl-games==1.6.1) (3.3)\n",
      "Requirement already satisfied: urllib3<1.27,>=1.21.1 in c:\\users\\acer\\anaconda3\\lib\\site-packages (from requests->ray<2.0.0,>=1.11.0->rl-games==1.6.1) (1.26.11)\n",
      "Requirement already satisfied: charset-normalizer<3,>=2 in c:\\users\\acer\\anaconda3\\lib\\site-packages (from requests->ray<2.0.0,>=1.11.0->rl-games==1.6.1) (2.0.4)\n",
      "Requirement already satisfied: certifi>=2017.4.17 in c:\\users\\acer\\anaconda3\\lib\\site-packages (from requests->ray<2.0.0,>=1.11.0->rl-games==1.6.1) (2022.9.14)\n",
      "Requirement already satisfied: pyrsistent!=0.17.0,!=0.17.1,!=0.17.2,>=0.14.0 in c:\\users\\acer\\anaconda3\\lib\\site-packages (from jsonschema->ray<2.0.0,>=1.11.0->rl-games==1.6.1) (0.18.0)\n",
      "Requirement already satisfied: pyparsing!=3.0.5,>=2.0.2 in c:\\users\\acer\\anaconda3\\lib\\site-packages (from packaging->tensorboardX<3.0,>=2.5->rl-games==1.6.1) (3.0.9)\n",
      "Requirement already satisfied: distlib<1,>=0.3.6 in c:\\users\\acer\\anaconda3\\lib\\site-packages (from virtualenv->ray<2.0.0,>=1.11.0->rl-games==1.6.1) (0.3.6)\n",
      "Requirement already satisfied: platformdirs<4,>=2.4 in c:\\users\\acer\\anaconda3\\lib\\site-packages (from virtualenv->ray<2.0.0,>=1.11.0->rl-games==1.6.1) (2.5.2)\n",
      "Requirement already satisfied: smmap<6,>=3.0.1 in c:\\users\\acer\\anaconda3\\lib\\site-packages (from gitdb<5,>=4.0.1->GitPython>=1.0.0->wandb<0.13.0,>=0.12.11->rl-games==1.6.1) (5.0.0)\n",
      "Requirement already satisfied: pyasn1<0.5.0,>=0.4.6 in c:\\users\\acer\\anaconda3\\lib\\site-packages (from pyasn1-modules>=0.2.1->google-auth<3,>=1.6.3->tensorboard<3.0.0,>=2.8.0->rl-games==1.6.1) (0.4.8)\n",
      "Requirement already satisfied: oauthlib>=3.0.0 in c:\\users\\acer\\anaconda3\\lib\\site-packages (from requests-oauthlib>=0.7.0->google-auth-oauthlib<0.5,>=0.4.1->tensorboard<3.0.0,>=2.8.0->rl-games==1.6.1) (3.2.2)\n"
     ]
    },
    {
     "name": "stderr",
     "output_type": "stream",
     "text": [
      "  Running command git clone --filter=blob:none -q https://github.com/Denys88/rl_games 'C:\\Users\\Acer\\AppData\\Local\\Temp\\pip-req-build-ablz7n83'\n",
      "WARNING: gym 0.23.1 does not provide the extra 'classic-control'\n",
      "WARNING: You are using pip version 21.3.1; however, version 23.1 is available.\n",
      "You should consider upgrading via the 'C:\\Users\\Acer\\anaconda3\\python.exe -m pip install --upgrade pip' command.\n",
      "ERROR: Could not find a version that satisfies the requirement envpool (from versions: none)\n",
      "ERROR: No matching distribution found for envpool\n",
      "WARNING: You are using pip version 21.3.1; however, version 23.1 is available.\n",
      "You should consider upgrading via the 'C:\\Users\\Acer\\anaconda3\\python.exe -m pip install --upgrade pip' command.\n"
     ]
    },
    {
     "name": "stdout",
     "output_type": "stream",
     "text": [
      "Requirement already satisfied: gym in c:\\users\\acer\\anaconda3\\lib\\site-packages (0.23.1)\n",
      "Requirement already satisfied: importlib-metadata>=4.10.0 in c:\\users\\acer\\anaconda3\\lib\\site-packages (from gym) (4.11.3)\n",
      "Requirement already satisfied: numpy>=1.18.0 in c:\\users\\acer\\anaconda3\\lib\\site-packages (from gym) (1.23.5)\n",
      "Requirement already satisfied: gym-notices>=0.0.4 in c:\\users\\acer\\anaconda3\\lib\\site-packages (from gym) (0.0.8)\n",
      "Requirement already satisfied: cloudpickle>=1.2.0 in c:\\users\\acer\\anaconda3\\lib\\site-packages (from gym) (2.0.0)\n",
      "Requirement already satisfied: zipp>=0.5 in c:\\users\\acer\\anaconda3\\lib\\site-packages (from importlib-metadata>=4.10.0->gym) (3.8.0)\n"
     ]
    },
    {
     "name": "stderr",
     "output_type": "stream",
     "text": [
      "WARNING: You are using pip version 21.3.1; however, version 23.1 is available.\n",
      "You should consider upgrading via the 'C:\\Users\\Acer\\anaconda3\\python.exe -m pip install --upgrade pip' command.\n"
     ]
    },
    {
     "name": "stdout",
     "output_type": "stream",
     "text": [
      "Requirement already satisfied: free-mujoco-py in c:\\users\\acer\\anaconda3\\lib\\site-packages (2.1.6)\n",
      "Requirement already satisfied: numpy<2.0.0,>=1.21.3 in c:\\users\\acer\\anaconda3\\lib\\site-packages (from free-mujoco-py) (1.23.5)\n",
      "Requirement already satisfied: fasteners==0.15 in c:\\users\\acer\\anaconda3\\lib\\site-packages (from free-mujoco-py) (0.15)\n",
      "Requirement already satisfied: Cython<0.30.0,>=0.29.24 in c:\\users\\acer\\anaconda3\\lib\\site-packages (from free-mujoco-py) (0.29.32)\n",
      "Requirement already satisfied: imageio<3.0.0,>=2.9.0 in c:\\users\\acer\\anaconda3\\lib\\site-packages (from free-mujoco-py) (2.27.0)\n",
      "Requirement already satisfied: glfw<2.0.0,>=1.4.0 in c:\\users\\acer\\anaconda3\\lib\\site-packages (from free-mujoco-py) (1.12.0)\n",
      "Requirement already satisfied: cffi<2.0.0,>=1.15.0 in c:\\users\\acer\\anaconda3\\lib\\site-packages (from free-mujoco-py) (1.15.1)\n",
      "Requirement already satisfied: six in c:\\users\\acer\\anaconda3\\lib\\site-packages (from fasteners==0.15->free-mujoco-py) (1.16.0)\n",
      "Requirement already satisfied: monotonic>=0.1 in c:\\users\\acer\\anaconda3\\lib\\site-packages (from fasteners==0.15->free-mujoco-py) (1.6)\n",
      "Requirement already satisfied: pycparser in c:\\users\\acer\\anaconda3\\lib\\site-packages (from cffi<2.0.0,>=1.15.0->free-mujoco-py) (2.21)\n",
      "Requirement already satisfied: pillow>=8.3.2 in c:\\users\\acer\\anaconda3\\lib\\site-packages (from imageio<3.0.0,>=2.9.0->free-mujoco-py) (9.2.0)\n"
     ]
    },
    {
     "name": "stderr",
     "output_type": "stream",
     "text": [
      "WARNING: You are using pip version 21.3.1; however, version 23.1 is available.\n",
      "You should consider upgrading via the 'C:\\Users\\Acer\\anaconda3\\python.exe -m pip install --upgrade pip' command.\n",
      "The system cannot find the path specified.\n"
     ]
    },
    {
     "name": "stdout",
     "output_type": "stream",
     "text": [
      "Collecting imageio==2.4.1\n",
      "  Using cached imageio-2.4.1-py3-none-any.whl\n",
      "Requirement already satisfied: numpy in c:\\users\\acer\\anaconda3\\lib\\site-packages (from imageio==2.4.1) (1.23.5)\n",
      "Requirement already satisfied: pillow in c:\\users\\acer\\anaconda3\\lib\\site-packages (from imageio==2.4.1) (9.2.0)\n",
      "Installing collected packages: imageio\n",
      "  Attempting uninstall: imageio\n",
      "    Found existing installation: imageio 2.27.0\n",
      "    Uninstalling imageio-2.27.0:\n",
      "      Successfully uninstalled imageio-2.27.0\n",
      "Successfully installed imageio-2.4.1\n"
     ]
    },
    {
     "name": "stderr",
     "output_type": "stream",
     "text": [
      "ERROR: pip's dependency resolver does not currently take into account all the packages that are installed. This behaviour is the source of the following dependency conflicts.\n",
      "moviepy 1.0.3 requires imageio<3.0,>=2.5; python_version >= \"3.4\", but you have imageio 2.4.1 which is incompatible.\n",
      "free-mujoco-py 2.1.6 requires imageio<3.0.0,>=2.9.0, but you have imageio 2.4.1 which is incompatible.\n",
      "WARNING: You are using pip version 21.3.1; however, version 23.1 is available.\n",
      "You should consider upgrading via the 'C:\\Users\\Acer\\anaconda3\\python.exe -m pip install --upgrade pip' command.\n"
     ]
    },
    {
     "name": "stdout",
     "output_type": "stream",
     "text": [
      "Requirement already satisfied: colabgymrender in c:\\users\\acer\\anaconda3\\lib\\site-packages (1.1.0)\n",
      "Requirement already satisfied: moviepy in c:\\users\\acer\\anaconda3\\lib\\site-packages (from colabgymrender) (1.0.3)\n",
      "Requirement already satisfied: imageio-ffmpeg>=0.2.0 in c:\\users\\acer\\anaconda3\\lib\\site-packages (from moviepy->colabgymrender) (0.4.8)\n",
      "Requirement already satisfied: tqdm<5.0,>=4.11.2 in c:\\users\\acer\\anaconda3\\lib\\site-packages (from moviepy->colabgymrender) (4.64.1)\n",
      "Requirement already satisfied: numpy>=1.17.3 in c:\\users\\acer\\anaconda3\\lib\\site-packages (from moviepy->colabgymrender) (1.23.5)\n",
      "Requirement already satisfied: proglog<=1.0.0 in c:\\users\\acer\\anaconda3\\lib\\site-packages (from moviepy->colabgymrender) (0.1.10)\n",
      "Requirement already satisfied: decorator<5.0,>=4.0.2 in c:\\users\\acer\\anaconda3\\lib\\site-packages (from moviepy->colabgymrender) (4.4.2)\n",
      "Requirement already satisfied: requests<3.0,>=2.8.1 in c:\\users\\acer\\anaconda3\\lib\\site-packages (from moviepy->colabgymrender) (2.28.1)\n",
      "Collecting imageio<3.0,>=2.5\n",
      "  Using cached imageio-2.27.0-py3-none-any.whl (3.4 MB)\n",
      "Requirement already satisfied: pillow>=8.3.2 in c:\\users\\acer\\anaconda3\\lib\\site-packages (from imageio<3.0,>=2.5->moviepy->colabgymrender) (9.2.0)\n",
      "Requirement already satisfied: certifi>=2017.4.17 in c:\\users\\acer\\anaconda3\\lib\\site-packages (from requests<3.0,>=2.8.1->moviepy->colabgymrender) (2022.9.14)\n",
      "Requirement already satisfied: idna<4,>=2.5 in c:\\users\\acer\\anaconda3\\lib\\site-packages (from requests<3.0,>=2.8.1->moviepy->colabgymrender) (3.3)\n",
      "Requirement already satisfied: urllib3<1.27,>=1.21.1 in c:\\users\\acer\\anaconda3\\lib\\site-packages (from requests<3.0,>=2.8.1->moviepy->colabgymrender) (1.26.11)\n",
      "Requirement already satisfied: charset-normalizer<3,>=2 in c:\\users\\acer\\anaconda3\\lib\\site-packages (from requests<3.0,>=2.8.1->moviepy->colabgymrender) (2.0.4)\n",
      "Requirement already satisfied: colorama in c:\\users\\acer\\anaconda3\\lib\\site-packages (from tqdm<5.0,>=4.11.2->moviepy->colabgymrender) (0.4.5)\n",
      "Installing collected packages: imageio\n",
      "  Attempting uninstall: imageio\n",
      "    Found existing installation: imageio 2.4.1\n",
      "    Uninstalling imageio-2.4.1:\n",
      "      Successfully uninstalled imageio-2.4.1\n",
      "Successfully installed imageio-2.27.0\n"
     ]
    },
    {
     "name": "stderr",
     "output_type": "stream",
     "text": [
      "WARNING: You are using pip version 21.3.1; however, version 23.1 is available.\n",
      "You should consider upgrading via the 'C:\\Users\\Acer\\anaconda3\\python.exe -m pip install --upgrade pip' command.\n"
     ]
    }
   ],
   "source": [
    "# OS: Ubuntu 18.04.4 LTS x86_64\n",
    "# Kernel: 4.18.0-15-generic\n",
    "# CPU: Intel(R) Core(TM) i9-10920X CPU (24) @ 3.50GHz\n",
    "# GPU: NVIDIA GeForce RTX 2080 Ti\n",
    "!pip install  \\\n",
    "    libgl1-mesa-dev \\\n",
    "    libgl1-mesa-glx \\\n",
    "    libglew-dev \\\n",
    "    libosmesa6-dev \\\n",
    "    software-properties-common\n",
    "\n",
    "!pip install  patchelf\n",
    "!pip install git+https://github.com/Denys88/rl_games\n",
    "!pip install envpool\n",
    "!pip install gym\n",
    "\n",
    "!pip install free-mujoco-py\n",
    "!apt-get install -y xvfb python-opengl ffmpeg > /dev/null 2>&1\n",
    "!pip install imageio==2.4.1\n",
    "!pip install -U colabgymrender"
   ]
  },
  {
   "cell_type": "code",
   "execution_count": null,
   "id": "a479cb0a",
   "metadata": {},
   "outputs": [],
   "source": []
  }
 ],
 "metadata": {
  "kernelspec": {
   "display_name": "Python 3 (ipykernel)",
   "language": "python",
   "name": "python3"
  },
  "language_info": {
   "codemirror_mode": {
    "name": "ipython",
    "version": 3
   },
   "file_extension": ".py",
   "mimetype": "text/x-python",
   "name": "python",
   "nbconvert_exporter": "python",
   "pygments_lexer": "ipython3",
   "version": "3.9.13"
  }
 },
 "nbformat": 4,
 "nbformat_minor": 5
}
